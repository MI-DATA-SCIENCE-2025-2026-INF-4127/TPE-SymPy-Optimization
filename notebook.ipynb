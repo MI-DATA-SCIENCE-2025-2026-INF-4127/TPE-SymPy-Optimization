{
  "cells": [
    {
      "cell_type": "markdown",
      "id": "aa4edef0",
      "metadata": {
        "id": "aa4edef0"
      },
      "source": [
        "# TPE — Calcul symbolique & Optimisation en Machine Learning\n",
        "\n",
        "**Notebook:** exemples et TP pratiques avec `SymPy`.\n",
        "\n",
        "Ce notebook accompagne le dossier TPE : il montre comment utiliser le calcul symbolique pour dériver\n",
        "des fonctions coût, obtenir les gradients et ensuite appliquer une descente de gradient numérique.\n",
        "\n",
        "**Contenu :**\n",
        "- Installation\n",
        "- Vérifier la convexité par la seconde dérivée.\n",
        "- Étudier des cas convexes et non convexes.\n",
        "- Utiliser la Hessienne en dimension multiple.\n",
        "- Régression linéaire (1 variable) : dérivation, substitution\n",
        "- Régression multivariée\n",
        "- Classification logistique (log loss)\n",
        "- Conversion des expressions symboliques en fonctions numériques (`lambdify`)\n",
        "- Descente de gradient sur petits jeux de données (experiences)\n",
        "- Graphiques et conclusion\n"
      ]
    },
    {
      "cell_type": "code",
      "source": [],
      "metadata": {
        "id": "szJe2xrGkH8a"
      },
      "id": "szJe2xrGkH8a",
      "execution_count": null,
      "outputs": []
    },
    {
      "cell_type": "markdown",
      "source": [
        "### Membres de l’équipe :  \n",
        "- 1- Nom :  BONO MBELLE AURELIEN  — Matricule 24F2459  \n",
        "- 2- Nom :  TAPAH NGASSA CLAUDIA  — Matricule 20V2342  \n",
        "- 3- Nom :  BITA ANGO'O WILLIAL MARRION  — Matricule 18T2779\n"
      ],
      "metadata": {
        "id": "ifBO7aMDkIbU"
      },
      "id": "ifBO7aMDkIbU"
    },
    {
      "cell_type": "markdown",
      "id": "ec0b3c38",
      "metadata": {
        "id": "ec0b3c38"
      },
      "source": [
        "## Installation\n",
        "\n",
        "Installe les paquets nécessaires\n"
      ]
    },
    {
      "cell_type": "code",
      "execution_count": null,
      "id": "61de780d",
      "metadata": {
        "colab": {
          "base_uri": "https://localhost:8080/"
        },
        "id": "61de780d",
        "outputId": "129b3238-fb5b-468b-e684-6e34867d6be5"
      },
      "outputs": [
        {
          "output_type": "stream",
          "name": "stdout",
          "text": [
            "Requirement already satisfied: sympy in /usr/local/lib/python3.12/dist-packages (1.13.3)\n",
            "Requirement already satisfied: numpy in /usr/local/lib/python3.12/dist-packages (2.0.2)\n",
            "Requirement already satisfied: matplotlib in /usr/local/lib/python3.12/dist-packages (3.10.0)\n",
            "Requirement already satisfied: mpmath<1.4,>=1.1.0 in /usr/local/lib/python3.12/dist-packages (from sympy) (1.3.0)\n",
            "Requirement already satisfied: contourpy>=1.0.1 in /usr/local/lib/python3.12/dist-packages (from matplotlib) (1.3.3)\n",
            "Requirement already satisfied: cycler>=0.10 in /usr/local/lib/python3.12/dist-packages (from matplotlib) (0.12.1)\n",
            "Requirement already satisfied: fonttools>=4.22.0 in /usr/local/lib/python3.12/dist-packages (from matplotlib) (4.60.0)\n",
            "Requirement already satisfied: kiwisolver>=1.3.1 in /usr/local/lib/python3.12/dist-packages (from matplotlib) (1.4.9)\n",
            "Requirement already satisfied: packaging>=20.0 in /usr/local/lib/python3.12/dist-packages (from matplotlib) (25.0)\n",
            "Requirement already satisfied: pillow>=8 in /usr/local/lib/python3.12/dist-packages (from matplotlib) (11.3.0)\n",
            "Requirement already satisfied: pyparsing>=2.3.1 in /usr/local/lib/python3.12/dist-packages (from matplotlib) (3.2.4)\n",
            "Requirement already satisfied: python-dateutil>=2.7 in /usr/local/lib/python3.12/dist-packages (from matplotlib) (2.9.0.post0)\n",
            "Requirement already satisfied: six>=1.5 in /usr/local/lib/python3.12/dist-packages (from python-dateutil>=2.7->matplotlib) (1.17.0)\n"
          ]
        }
      ],
      "source": [
        "!pip install sympy numpy matplotlib"
      ]
    },
    {
      "cell_type": "code",
      "execution_count": null,
      "id": "bea00cd7",
      "metadata": {
        "id": "bea00cd7"
      },
      "outputs": [],
      "source": [
        "import sympy as sp\n",
        "import numpy as np\n",
        "import matplotlib.pyplot as plt\n",
        "\n"
      ]
    },
    {
      "cell_type": "markdown",
      "source": [
        "###  Afficher les expressions SymPy de manière lisible\n"
      ],
      "metadata": {
        "id": "hdvHq4rIg0Yy"
      },
      "id": "hdvHq4rIg0Yy"
    },
    {
      "cell_type": "code",
      "execution_count": null,
      "id": "3156e87d",
      "metadata": {
        "colab": {
          "base_uri": "https://localhost:8080/"
        },
        "id": "3156e87d",
        "outputId": "91479da5-5f27-4b50-cb34-669a63ee49c0"
      },
      "outputs": [
        {
          "output_type": "stream",
          "name": "stdout",
          "text": [
            "SymPy version: 1.13.3\n"
          ]
        }
      ],
      "source": [
        "sp.init_printing()\n",
        "print('SymPy version:', sp.__version__)"
      ]
    },
    {
      "cell_type": "markdown",
      "source": [
        "###   Fonction convexe : $f(x) = x^2 + 3x + 2$"
      ],
      "metadata": {
        "id": "tSN2IdTQiT_b"
      },
      "id": "tSN2IdTQiT_b"
    },
    {
      "cell_type": "code",
      "source": [
        "x = sp.symbols('x')\n",
        "f = x**2 + 3*x + 2\n",
        "\n",
        "# Dérivées\n",
        "f_prime = sp.diff(f, x)\n",
        "f_double_prime = sp.diff(f, x, 2)\n",
        "\n",
        "f, f_prime, f_double_prime\n"
      ],
      "metadata": {
        "colab": {
          "base_uri": "https://localhost:8080/",
          "height": 39
        },
        "id": "QVrMXgt2iZJD",
        "outputId": "7f2ab202-aff4-43f5-c897-8d3df71a68f6"
      },
      "id": "QVrMXgt2iZJD",
      "execution_count": null,
      "outputs": [
        {
          "output_type": "execute_result",
          "data": {
            "text/plain": [
              "⎛ 2                      ⎞\n",
              "⎝x  + 3⋅x + 2, 2⋅x + 3, 2⎠"
            ],
            "text/latex": "$\\displaystyle \\left( x^{2} + 3 x + 2, \\  2 x + 3, \\  2\\right)$"
          },
          "metadata": {},
          "execution_count": 4
        }
      ]
    },
    {
      "cell_type": "code",
      "source": [],
      "metadata": {
        "id": "SkGiCHqRicJz"
      },
      "id": "SkGiCHqRicJz",
      "execution_count": null,
      "outputs": []
    },
    {
      "cell_type": "markdown",
      "source": [
        "### Fonction non convexe : $g(x) = x^3 - 3x$"
      ],
      "metadata": {
        "id": "5Krwj1loicur"
      },
      "id": "5Krwj1loicur"
    },
    {
      "cell_type": "code",
      "source": [
        "\n",
        "g = x**3 - 3*x\n",
        "g_prime = sp.diff(g, x)\n",
        "g_double_prime = sp.diff(g, x, 2)\n",
        "\n",
        "g, g_prime, g_double_prime\n"
      ],
      "metadata": {
        "colab": {
          "base_uri": "https://localhost:8080/",
          "height": 39
        },
        "id": "v6h9BwHlifeQ",
        "outputId": "741d8709-7279-434a-cceb-57b0b489aaa4"
      },
      "id": "v6h9BwHlifeQ",
      "execution_count": null,
      "outputs": [
        {
          "output_type": "execute_result",
          "data": {
            "text/plain": [
              "⎛ 3           2         ⎞\n",
              "⎝x  - 3⋅x, 3⋅x  - 3, 6⋅x⎠"
            ],
            "text/latex": "$\\displaystyle \\left( x^{3} - 3 x, \\  3 x^{2} - 3, \\  6 x\\right)$"
          },
          "metadata": {},
          "execution_count": 5
        }
      ]
    },
    {
      "cell_type": "code",
      "source": [],
      "metadata": {
        "id": "3qIdgo7yiiY6"
      },
      "id": "3qIdgo7yiiY6",
      "execution_count": null,
      "outputs": []
    },
    {
      "cell_type": "markdown",
      "source": [
        "### Convexité multivariée avec la Hessienne\n",
        "Fonction : $f(x,y) = x^2 + y^2$"
      ],
      "metadata": {
        "id": "_KRm9_Gyijtg"
      },
      "id": "_KRm9_Gyijtg"
    },
    {
      "cell_type": "code",
      "source": [
        "\n",
        "x, y = sp.symbols('x y')\n",
        "f_xy = x**2 + y**2\n",
        "\n",
        "# Hessienne\n",
        "H = sp.hessian(f_xy, (x, y))\n",
        "H_eigs = H.eigenvals()\n",
        "\n",
        "H, H_eigs\n"
      ],
      "metadata": {
        "colab": {
          "base_uri": "https://localhost:8080/",
          "height": 58
        },
        "id": "622Sa-p-inKd",
        "outputId": "c5df5ed9-0151-45be-d519-80abcaf8fef5"
      },
      "id": "622Sa-p-inKd",
      "execution_count": null,
      "outputs": [
        {
          "output_type": "execute_result",
          "data": {
            "text/plain": [
              "⎛⎡2  0⎤        ⎞\n",
              "⎜⎢    ⎥, {2: 2}⎟\n",
              "⎝⎣0  2⎦        ⎠"
            ],
            "text/latex": "$\\displaystyle \\left( \\left[\\begin{matrix}2 & 0\\\\0 & 2\\end{matrix}\\right], \\  \\left\\{ 2 : 2\\right\\}\\right)$"
          },
          "metadata": {},
          "execution_count": 6
        }
      ]
    },
    {
      "cell_type": "markdown",
      "id": "94aff7b5",
      "metadata": {
        "id": "94aff7b5"
      },
      "source": [
        "## Régression linéaire (1 variable) — dérivation symbolique pour un seul point\n",
        "\n",
        "On considère un modèle $h_\\theta(x)=\\theta_0+\\theta_1 x$ et la perte pour un exemple :\n",
        "$J=(h_\\theta(x)-y)^2$. Calculons les dérivées partielles."
      ]
    },
    {
      "cell_type": "code",
      "execution_count": null,
      "id": "6a0bd821",
      "metadata": {
        "colab": {
          "base_uri": "https://localhost:8080/",
          "height": 38
        },
        "id": "6a0bd821",
        "outputId": "20a779bd-90b0-4d71-ac14-10be2b020896"
      },
      "outputs": [
        {
          "output_type": "execute_result",
          "data": {
            "text/plain": [
              "(2⋅θ₀ + 2⋅θ₁⋅x - 2⋅y, 2⋅x⋅(θ₀ + θ₁⋅x - y))"
            ],
            "text/latex": "$\\displaystyle \\left( 2 \\theta_{0} + 2 \\theta_{1} x - 2 y, \\  2 x \\left(\\theta_{0} + \\theta_{1} x - y\\right)\\right)$"
          },
          "metadata": {},
          "execution_count": 7
        }
      ],
      "source": [
        "theta0, theta1, x, y = sp.symbols('theta0 theta1 x y')\n",
        "\n",
        "h = theta0 + theta1*x\n",
        "J = (h - y)**2\n",
        "\n",
        "dJ_dtheta0 = sp.diff(J, theta0)\n",
        "dJ_dtheta1 = sp.diff(J, theta1)\n",
        "\n",
        "dJ_dtheta0, dJ_dtheta1"
      ]
    },
    {
      "cell_type": "markdown",
      "id": "8460de42",
      "metadata": {
        "id": "8460de42"
      },
      "source": [
        "### Substitution numérique — exemple\n",
        "Calculons les gradients pour $x=2, y=3, \\theta_0=0, \\theta_1=1$."
      ]
    },
    {
      "cell_type": "code",
      "execution_count": null,
      "id": "378a33ef",
      "metadata": {
        "colab": {
          "base_uri": "https://localhost:8080/",
          "height": 37
        },
        "id": "378a33ef",
        "outputId": "80c89e44-df1a-43b3-bb8f-3ce975bbbac1"
      },
      "outputs": [
        {
          "output_type": "execute_result",
          "data": {
            "text/plain": [
              "(-2, -4)"
            ],
            "text/latex": "$\\displaystyle \\left( -2, \\  -4\\right)$"
          },
          "metadata": {},
          "execution_count": 8
        }
      ],
      "source": [
        "val_dtheta0 = dJ_dtheta0.subs({theta0:0, theta1:1, x:2, y:3})\n",
        "val_dtheta1 = dJ_dtheta1.subs({theta0:0, theta1:1, x:2, y:3})\n",
        "val_dtheta0, val_dtheta1"
      ]
    },
    {
      "cell_type": "markdown",
      "id": "69cb45fc",
      "metadata": {
        "id": "69cb45fc"
      },
      "source": [
        "## Régression linéaire multivariée (exemple à 2 features)\n",
        "\n",
        "Modèle : $h_\\theta(x)=\\theta_0+\\theta_1 x_1 + \\theta_2 x_2$. Calcul des gradients pour un seul exemple."
      ]
    },
    {
      "cell_type": "code",
      "execution_count": null,
      "id": "b147fded",
      "metadata": {
        "colab": {
          "base_uri": "https://localhost:8080/",
          "height": 38
        },
        "id": "b147fded",
        "outputId": "8953fc31-c51f-4927-9010-f9ee7c4a96e0"
      },
      "outputs": [
        {
          "output_type": "execute_result",
          "data": {
            "text/plain": [
              "(2⋅θ₀ + 2⋅θ₁⋅x₁ + 2⋅θ₂⋅x₂ - 2⋅y, 2⋅x₁⋅(θ₀ + θ₁⋅x₁ + θ₂⋅x₂ - y), 2⋅x₂⋅(θ₀ + θ₁⋅ ↪\n",
              "\n",
              "↪ x₁ + θ₂⋅x₂ - y))"
            ],
            "text/latex": "$\\displaystyle \\left( 2 \\theta_{0} + 2 \\theta_{1} x_{1} + 2 \\theta_{2} x_{2} - 2 y, \\  2 x_{1} \\left(\\theta_{0} + \\theta_{1} x_{1} + \\theta_{2} x_{2} - y\\right), \\  2 x_{2} \\left(\\theta_{0} + \\theta_{1} x_{1} + \\theta_{2} x_{2} - y\\right)\\right)$"
          },
          "metadata": {},
          "execution_count": 9
        }
      ],
      "source": [
        "theta0, theta1, theta2, x1, x2, y = sp.symbols('theta0 theta1 theta2 x1 x2 y')\n",
        "\n",
        "h2 = theta0 + theta1*x1 + theta2*x2\n",
        "J2 = (h2 - y)**2\n",
        "\n",
        "grad_theta0 = sp.diff(J2, theta0)\n",
        "grad_theta1 = sp.diff(J2, theta1)\n",
        "grad_theta2 = sp.diff(J2, theta2)\n",
        "\n",
        "grad_theta0, grad_theta1, grad_theta2"
      ]
    },
    {
      "cell_type": "markdown",
      "id": "dc73cac1",
      "metadata": {
        "id": "dc73cac1"
      },
      "source": [
        "## Classification logistique — dérivation symbolique\n",
        "\n",
        "Fonction sigmoïde et log loss pour un exemple :\n",
        "$z=\\theta_0+\\theta_1 x,\\; \\sigma(z)=1/(1+e^{-z})$\n",
        "\n",
        "Perte : $J = -[y\\log(\\sigma(z)) + (1-y)\\log(1-\\sigma(z))]$. Calcul des dérivées."
      ]
    },
    {
      "cell_type": "code",
      "execution_count": null,
      "id": "b586d7e3",
      "metadata": {
        "colab": {
          "base_uri": "https://localhost:8080/",
          "height": 68
        },
        "id": "b586d7e3",
        "outputId": "519cab64-94db-4971-822c-d3a194d52dda"
      },
      "outputs": [
        {
          "output_type": "execute_result",
          "data": {
            "text/plain": [
              "⎛     θ₀ + θ₁⋅x        θ₀ + θ₁⋅x    ⎛     θ₀ + θ₁⋅x        θ₀ + θ₁⋅x⎞⎞\n",
              "⎜- y⋅ℯ          - y + ℯ           x⋅⎝- y⋅ℯ          - y + ℯ         ⎠⎟\n",
              "⎜───────────────────────────────, ───────────────────────────────────⎟\n",
              "⎜         θ₀ + θ₁⋅x                          θ₀ + θ₁⋅x               ⎟\n",
              "⎝        ℯ          + 1                     ℯ          + 1           ⎠"
            ],
            "text/latex": "$\\displaystyle \\left( \\frac{- y e^{\\theta_{0} + \\theta_{1} x} - y + e^{\\theta_{0} + \\theta_{1} x}}{e^{\\theta_{0} + \\theta_{1} x} + 1}, \\  \\frac{x \\left(- y e^{\\theta_{0} + \\theta_{1} x} - y + e^{\\theta_{0} + \\theta_{1} x}\\right)}{e^{\\theta_{0} + \\theta_{1} x} + 1}\\right)$"
          },
          "metadata": {},
          "execution_count": 10
        }
      ],
      "source": [
        "theta0, theta1, x, y = sp.symbols('theta0 theta1 x y')\n",
        "\n",
        "z = theta0 + theta1*x\n",
        "sigma = 1/(1+sp.exp(-z))\n",
        "Jlog = - (y*sp.log(sigma) + (1-y)*sp.log(1-sigma))\n",
        "\n",
        "dJlog_dtheta0 = sp.diff(Jlog, theta0)\n",
        "dJlog_dtheta1 = sp.diff(Jlog, theta1)\n",
        "\n",
        "dJlog_dtheta0_s = sp.simplify(dJlog_dtheta0)\n",
        "dJlog_dtheta1_s = sp.simplify(dJlog_dtheta1)\n",
        "\n",
        "dJlog_dtheta0_s, dJlog_dtheta1_s"
      ]
    },
    {
      "cell_type": "markdown",
      "id": "f3516b84",
      "metadata": {
        "id": "f3516b84"
      },
      "source": [
        "## Expérience : descente de gradient sur un petit dataset (classification binaire)\n",
        "\n",
        "On convertit les expressions symboliques en fonctions numériques (`lambdify`) et on réalise une descente de gradient basique."
      ]
    },
    {
      "cell_type": "code",
      "execution_count": null,
      "id": "b9fbc351",
      "metadata": {
        "colab": {
          "base_uri": "https://localhost:8080/"
        },
        "id": "b9fbc351",
        "outputId": "a65bfbc3-dd6a-4361-f2d5-76fd84e0b4d5"
      },
      "outputs": [
        {
          "output_type": "stream",
          "name": "stdout",
          "text": [
            "Après 30 epochs: theta0=-0.3104, theta1=0.4652\n"
          ]
        }
      ],
      "source": [
        "# Convertir les gradients en fonctions numériques\n",
        "grad0 = sp.lambdify((theta0, theta1, x, y), dJlog_dtheta0_s, 'numpy')\n",
        "grad1 = sp.lambdify((theta0, theta1, x, y), dJlog_dtheta1_s, 'numpy')\n",
        "\n",
        "# Dataset jouet (X, Y)\n",
        "X = np.array([1., 2., 3., 4., 5.])\n",
        "Y = np.array([0., 0., 1., 1., 1.])\n",
        "\n",
        "# Initialisation\n",
        "t0, t1 = 0.0, 0.0\n",
        "alpha = 0.1\n",
        "n_epochs = 30\n",
        "\n",
        "history = []\n",
        "\n",
        "for epoch in range(n_epochs):\n",
        "    g0 = 0.0\n",
        "    g1 = 0.0\n",
        "    for xi, yi in zip(X, Y):\n",
        "        g0 += grad0(t0, t1, xi, yi)\n",
        "        g1 += grad1(t0, t1, xi, yi)\n",
        "    g0 /= len(X)\n",
        "    g1 /= len(X)\n",
        "    t0 -= alpha * g0\n",
        "    t1 -= alpha * g1\n",
        "    history.append((t0, t1))\n",
        "\n",
        "print(f'Après {n_epochs} epochs: theta0={t0:.4f}, theta1={t1:.4f}')\n",
        "\n",
        "history = np.array(history)"
      ]
    },
    {
      "cell_type": "markdown",
      "id": "6237bba8",
      "metadata": {
        "id": "6237bba8"
      },
      "source": [
        "### Évolution des paramètres au cours de l'entraînement"
      ]
    },
    {
      "cell_type": "code",
      "execution_count": null,
      "id": "1c52e074",
      "metadata": {
        "colab": {
          "base_uri": "https://localhost:8080/",
          "height": 927
        },
        "id": "1c52e074",
        "outputId": "56d8e52f-6da4-4725-a392-ea479a6d9825"
      },
      "outputs": [
        {
          "output_type": "display_data",
          "data": {
            "text/plain": [
              "<Figure size 640x480 with 1 Axes>"
            ],
            "image/png": "[encoded data removed]"
          },
          "metadata": {}
        },
        {
          "output_type": "display_data",
          "data": {
            "text/plain": [
              "<Figure size 640x480 with 1 Axes>"
            ],
            "image/png": "[encoded data removed]"
          },
          "metadata": {}
        }
      ],
      "source": [
        "plt.figure()\n",
        "plt.plot(history[:,0])\n",
        "plt.title('Évolution de theta0')\n",
        "plt.xlabel('Epoch')\n",
        "plt.ylabel('theta0')\n",
        "plt.show()\n",
        "\n",
        "plt.figure()\n",
        "plt.plot(history[:,1])\n",
        "plt.title('Évolution de theta1')\n",
        "plt.xlabel('Epoch')\n",
        "plt.ylabel('theta1')\n",
        "plt.show()"
      ]
    },
    {
      "cell_type": "markdown",
      "id": "5369d497",
      "metadata": {
        "id": "5369d497"
      },
      "source": [
        "### Évolution d'une perte approximative (log loss moyenne)"
      ]
    },
    {
      "cell_type": "code",
      "execution_count": null,
      "id": "5da0f275",
      "metadata": {
        "colab": {
          "base_uri": "https://localhost:8080/",
          "height": 472
        },
        "id": "5da0f275",
        "outputId": "ae9cbd95-3749-4db3-d82a-292451b6bcf9"
      },
      "outputs": [
        {
          "output_type": "display_data",
          "data": {
            "text/plain": [
              "<Figure size 640x480 with 1 Axes>"
            ],
            "image/png": "[encoded data removed]"
          },
          "metadata": {}
        }
      ],
      "source": [
        "import math\n",
        "\n",
        "def sigmoid(z):\n",
        "    return 1/(1+math.exp(-z))\n",
        "\n",
        "def log_loss_mean(theta0_v, theta1_v, X, Y):\n",
        "    losses = []\n",
        "    for xi, yi in zip(X, Y):\n",
        "        z = theta0_v + theta1_v*xi\n",
        "        p = sigmoid(z)\n",
        "        p = min(max(p, 1e-12), 1-1e-12)\n",
        "        losses.append(- (yi*math.log(p) + (1-yi)*math.log(1-p)))\n",
        "    return sum(losses)/len(losses)\n",
        "\n",
        "losses = [log_loss_mean(t0_v, t1_v, X, Y) for t0_v, t1_v in history]\n",
        "\n",
        "plt.figure()\n",
        "plt.plot(losses)\n",
        "plt.title('Perte moyenne (log loss) par epoch')\n",
        "plt.xlabel('Epoch')\n",
        "plt.ylabel('Log loss')\n",
        "plt.show()"
      ]
    },
    {
      "cell_type": "markdown",
      "id": "410d3a79",
      "metadata": {
        "id": "410d3a79"
      },
      "source": [
        "## Vérification : gradients symboliques vs approximation numérique (difference)"
      ]
    },
    {
      "cell_type": "code",
      "execution_count": null,
      "id": "33b46557",
      "metadata": {
        "colab": {
          "base_uri": "https://localhost:8080/",
          "height": 39
        },
        "id": "33b46557",
        "outputId": "f5cf2fc0-b909-434e-a476-fdf9264a17e5"
      },
      "outputs": [
        {
          "output_type": "execute_result",
          "data": {
            "text/plain": [
              "(-0.5744425168116589, -0.5744425167208966, 9.076228657534102e-11)"
            ],
            "text/latex": "$\\displaystyle \\left( -0.574442516811659, \\  -0.574442516720897, \\  9.0762286575341 \\cdot 10^{-11}\\right)$"
          },
          "metadata": {},
          "execution_count": 14
        }
      ],
      "source": [
        "def numeric_grad(fun, params, idx, eps=1e-6):\n",
        "    p = list(params)\n",
        "    p[idx] += eps\n",
        "    f1 = fun(*p)\n",
        "    p[idx] -= 2*eps\n",
        "    f2 = fun(*p)\n",
        "    return (f1 - f2) / (2*eps)\n",
        "\n",
        "# convertir la perte symbolique Jlog en fonction numérique\n",
        "loss_one = sp.lambdify((theta0, theta1, x, y), Jlog, 'numpy')\n",
        "\n",
        "params = (0.1, -0.2, 2.0, 1.0)\n",
        "\n",
        "g0_sym = float(sp.N(dJlog_dtheta0_s.subs({theta0:params[0], theta1:params[1], x:params[2], y:params[3]})))\n",
        "g0_num = numeric_grad(lambda a,b,c,d: loss_one(a,b,c,d), params, 0)\n",
        "\n",
        "g0_sym, g0_num, abs(g0_sym-g0_num)"
      ]
    },
    {
      "cell_type": "markdown",
      "id": "d935d469",
      "metadata": {
        "id": "d935d469"
      },
      "source": []
    }
  ],
  "metadata": {
    "kernelspec": {
      "display_name": "Python 3 (ipykernel)",
      "language": "python",
      "name": "python3"
    },
    "language_info": {
      "codemirror_mode": {
        "name": "ipython",
        "version": 3
      },
      "file_extension": ".py",
      "mimetype": "text/x-python",
      "name": "python",
      "nbconvert_exporter": "python",
      "pygments_lexer": "ipython3",
      "version": "3.12.3"
    },
    "colab": {
      "provenance": []
    }
  },
  "nbformat": 4,
  "nbformat_minor": 5
}