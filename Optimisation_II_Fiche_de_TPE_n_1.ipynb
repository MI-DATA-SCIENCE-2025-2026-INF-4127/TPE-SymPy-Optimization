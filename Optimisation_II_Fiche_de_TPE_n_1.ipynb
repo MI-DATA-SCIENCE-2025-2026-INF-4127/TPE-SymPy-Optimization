{
  "cells": [
    {
      "cell_type": "markdown",
      "id": "4d83174f",
      "metadata": {
        "id": "4d83174f"
      },
      "source": [
        "# Exercice : Fonctions de perte, gradients, convexité et visualisation\n",
        "\n",
        "Ce notebook couvre :  \n",
        "1. Expressions symboliques des gradients pour MSE, BCE, CCE, Huber.  \n",
        "2. Étude des propriétés de convexité.  \n",
        "3. Génération de petits jeux de données (régression et classification).  \n",
        "4. Visualisation des surfaces de perte.  \n",
        "5. Calcul de l'équation de la tangente à une ellipse en un point donné.  \n"
      ]
    },
    {
      "cell_type": "markdown",
      "source": [
        "### Membres de l’équipe :  \n",
        "- 1- Nom :  BONO MBELLE AURELIEN  — Matricule 24F2459  \n",
        "- 2- Nom :  TAPAH NGASSA CLAUDIA  — Matricule 20V2342  \n",
        "- 3- Nom :  BITA ANGO'O WILLIAL MARRION  — Matricule 18T2779\n"
      ],
      "metadata": {
        "id": "QfzZACFh4PfN"
      },
      "id": "QfzZACFh4PfN"
    },
    {
      "cell_type": "code",
      "source": [
        "!pip install sympy numpy matplotlib"
      ],
      "metadata": {
        "id": "LcfCQoKG8gwM"
      },
      "id": "LcfCQoKG8gwM",
      "execution_count": null,
      "outputs": []
    },
    {
      "cell_type": "code",
      "source": [
        "import sympy as sp\n",
        "import numpy as np\n",
        "import pandas as pd\n",
        "import matplotlib.pyplot as plt"
      ],
      "metadata": {
        "id": "_ZZd-OQB2FJw"
      },
      "id": "_ZZd-OQB2FJw",
      "execution_count": 57,
      "outputs": []
    },
    {
      "cell_type": "markdown",
      "source": [
        "# 1- Symbolic definitions\n"
      ],
      "metadata": {
        "id": "e-2_ssRO2LF5"
      },
      "id": "e-2_ssRO2LF5"
    },
    {
      "cell_type": "code",
      "source": [
        "x1, x2, y = sp.symbols('x1 x2 y', real=True)\n",
        "w1, w2, b = sp.symbols('w1 w2 b', real=True)\n",
        "delta = sp.symbols('delta', positive=True)\n",
        "\n",
        "s = w1*x1 + w2*x2 + b\n",
        "res = y - s"
      ],
      "metadata": {
        "id": "51Fqirzg2I-V"
      },
      "id": "51Fqirzg2I-V",
      "execution_count": 58,
      "outputs": []
    },
    {
      "cell_type": "markdown",
      "source": [
        "## MSE\n"
      ],
      "metadata": {
        "id": "06DH0Q4E2Rwg"
      },
      "id": "06DH0Q4E2Rwg"
    },
    {
      "cell_type": "code",
      "source": [
        "MSE = sp.Rational(1,2)*(y - s)**2\n",
        "grad_MSE = [sp.simplify(sp.diff(MSE, v)) for v in (w1,w2,b)]\n"
      ],
      "metadata": {
        "id": "X7GjS59Y2Qpo"
      },
      "id": "X7GjS59Y2Qpo",
      "execution_count": 59,
      "outputs": []
    },
    {
      "cell_type": "markdown",
      "source": [
        "## BCE (sigmoid)\n"
      ],
      "metadata": {
        "id": "0vlbBbAH2V2W"
      },
      "id": "0vlbBbAH2V2W"
    },
    {
      "cell_type": "code",
      "source": [
        "sig = 1/(1+sp.exp(-s))\n",
        "BCE = - (y*sp.log(sig) + (1-y)*sp.log(1-sig))\n",
        "grad_BCE = [sp.simplify(sp.diff(BCE, v)) for v in (w1,w2,b)]\n"
      ],
      "metadata": {
        "id": "xddfsONw2Ufn"
      },
      "id": "xddfsONw2Ufn",
      "execution_count": 60,
      "outputs": []
    },
    {
      "cell_type": "markdown",
      "source": [
        "## Categorical CE (softmax) - gradient wrt scores s1,s2,s3\n"
      ],
      "metadata": {
        "id": "fbF80Rp22c3V"
      },
      "id": "fbF80Rp22c3V"
    },
    {
      "cell_type": "code",
      "source": [
        "s1, s2, s3 = sp.symbols('s1 s2 s3', real=True)\n",
        "t1, t2, t3 = sp.symbols('t1 t2 t3', integer=True, nonnegative=True)\n",
        "exp1, exp2, exp3 = sp.exp(s1), sp.exp(s2), sp.exp(s3)\n",
        "Z = exp1 + exp2 + exp3\n",
        "soft1 = exp1/Z; soft2 = exp2/Z; soft3 = exp3/Z\n",
        "CE = - (t1*sp.log(soft1) + t2*sp.log(soft2) + t3*sp.log(soft3))\n",
        "grad_CE_scores = [sp.simplify(sp.diff(CE, si)) for si in (s1,s2,s3)]"
      ],
      "metadata": {
        "id": "HPzLm51G2axO"
      },
      "id": "HPzLm51G2axO",
      "execution_count": 61,
      "outputs": []
    },
    {
      "cell_type": "markdown",
      "source": [
        "## Huber (piecewise)\n"
      ],
      "metadata": {
        "id": "iYb5TXJc2hEm"
      },
      "id": "iYb5TXJc2hEm"
    },
    {
      "cell_type": "code",
      "source": [
        "\n",
        "Huber = sp.Piecewise((sp.Rational(1,2)*res**2, sp.Abs(res) <= delta),\n",
        "                     (delta*(sp.Abs(res) - sp.Rational(1,2)*delta), True))\n",
        "grad_Huber = [sp.simplify(sp.diff(Huber, v)) for v in (w1,w2,b)]\n"
      ],
      "metadata": {
        "id": "h9gpKFcM2msx"
      },
      "id": "h9gpKFcM2msx",
      "execution_count": 62,
      "outputs": []
    },
    {
      "cell_type": "markdown",
      "source": [
        "## Affichage les gradients symboliques (lisibles)\n"
      ],
      "metadata": {
        "id": "pF64y_jD2tnE"
      },
      "id": "pF64y_jD2tnE"
    },
    {
      "cell_type": "code",
      "source": [
        "\n",
        "\n",
        "print(\"MSE gradients (w1,w2,b):\")\n",
        "for g in grad_MSE: print(sp.pretty(g))"
      ],
      "metadata": {
        "colab": {
          "base_uri": "https://localhost:8080/"
        },
        "id": "pFsolxdk4H7J",
        "outputId": "0fd17f2e-135c-4d39-98bd-8a703742fbb1"
      },
      "id": "pFsolxdk4H7J",
      "execution_count": 63,
      "outputs": [
        {
          "output_type": "stream",
          "name": "stdout",
          "text": [
            "MSE gradients (w1,w2,b):\n",
            "x₁⋅(b + w₁⋅x₁ + w₂⋅x₂ - y)\n",
            "x₂⋅(b + w₁⋅x₁ + w₂⋅x₂ - y)\n",
            "b + w₁⋅x₁ + w₂⋅x₂ - y\n"
          ]
        }
      ]
    },
    {
      "cell_type": "code",
      "source": [
        "\n",
        "print(\"\\nBCE gradients (w1,w2,b):\")\n",
        "for g in grad_BCE: print(sp.pretty(g))"
      ],
      "metadata": {
        "colab": {
          "base_uri": "https://localhost:8080/"
        },
        "id": "YsjizDqX4JPJ",
        "outputId": "fd3876fa-2035-43c4-add7-fb2d5b6046a3"
      },
      "id": "YsjizDqX4JPJ",
      "execution_count": 64,
      "outputs": [
        {
          "output_type": "stream",
          "name": "stdout",
          "text": [
            "\n",
            "BCE gradients (w1,w2,b):\n",
            "   ⎛     b + w₁⋅x₁ + w₂⋅x₂        b + w₁⋅x₁ + w₂⋅x₂⎞\n",
            "x₁⋅⎝- y⋅ℯ                  - y + ℯ                 ⎠\n",
            "────────────────────────────────────────────────────\n",
            "                b + w₁⋅x₁ + w₂⋅x₂                   \n",
            "               ℯ                  + 1               \n",
            "   ⎛     b + w₁⋅x₁ + w₂⋅x₂        b + w₁⋅x₁ + w₂⋅x₂⎞\n",
            "x₂⋅⎝- y⋅ℯ                  - y + ℯ                 ⎠\n",
            "────────────────────────────────────────────────────\n",
            "                b + w₁⋅x₁ + w₂⋅x₂                   \n",
            "               ℯ                  + 1               \n",
            "     b + w₁⋅x₁ + w₂⋅x₂        b + w₁⋅x₁ + w₂⋅x₂\n",
            "- y⋅ℯ                  - y + ℯ                 \n",
            "───────────────────────────────────────────────\n",
            "             b + w₁⋅x₁ + w₂⋅x₂                 \n",
            "            ℯ                  + 1             \n"
          ]
        }
      ]
    },
    {
      "cell_type": "code",
      "source": [
        "\n",
        "print(\"\\nCategorical CE gradients wrt scores (s1,s2,s3):\")\n",
        "for g in grad_CE_scores: print(sp.pretty(g))\n",
        "\n"
      ],
      "metadata": {
        "colab": {
          "base_uri": "https://localhost:8080/"
        },
        "id": "1eo8LY_t2y_p",
        "outputId": "c0000c1c-d0ab-4d1f-be78-575c57c7f295"
      },
      "id": "1eo8LY_t2y_p",
      "execution_count": 65,
      "outputs": [
        {
          "output_type": "stream",
          "name": "stdout",
          "text": [
            "\n",
            "Categorical CE gradients wrt scores (s1,s2,s3):\n",
            "      s₂       s₃       s₁       s₁\n",
            "- t₁⋅ℯ   - t₁⋅ℯ   + t₂⋅ℯ   + t₃⋅ℯ  \n",
            "───────────────────────────────────\n",
            "           s₁    s₂    s₃          \n",
            "          ℯ   + ℯ   + ℯ            \n",
            "    s₂       s₁       s₃       s₂\n",
            "t₁⋅ℯ   - t₂⋅ℯ   - t₂⋅ℯ   + t₃⋅ℯ  \n",
            "─────────────────────────────────\n",
            "          s₁    s₂    s₃         \n",
            "         ℯ   + ℯ   + ℯ           \n",
            "    s₃       s₃       s₁       s₂\n",
            "t₁⋅ℯ   + t₂⋅ℯ   - t₃⋅ℯ   - t₃⋅ℯ  \n",
            "─────────────────────────────────\n",
            "          s₁    s₂    s₃         \n",
            "         ℯ   + ℯ   + ℯ           \n"
          ]
        }
      ]
    },
    {
      "cell_type": "code",
      "source": [
        "print(\"\\nHuber gradients (piecewise):\")\n",
        "for g in grad_Huber: print(sp.pretty(g))"
      ],
      "metadata": {
        "colab": {
          "base_uri": "https://localhost:8080/"
        },
        "id": "6VQnzisH4FP0",
        "outputId": "ffa8b714-e961-4157-f488-d7b25d02a647"
      },
      "id": "6VQnzisH4FP0",
      "execution_count": 66,
      "outputs": [
        {
          "output_type": "stream",
          "name": "stdout",
          "text": [
            "\n",
            "Huber gradients (piecewise):\n",
            "⎧                 x₁⋅(b + w₁⋅x₁ + w₂⋅x₂ - y)                   for δ ≥ │b + w₁ ↪\n",
            "⎪                                                                              ↪\n",
            "⎪⎧             0                for b + w₁⋅x₁ + w₂⋅x₂ - y = 0                  ↪\n",
            "⎨⎪                                                                             ↪\n",
            "⎪⎨δ⋅x₁⋅(b + w₁⋅x₁ + w₂⋅x₂ - y)                                            othe ↪\n",
            "⎪⎪────────────────────────────            otherwise                            ↪\n",
            "⎩⎩  │b + w₁⋅x₁ + w₂⋅x₂ - y│                                                    ↪\n",
            "\n",
            "↪ ⋅x₁ + w₂⋅x₂ - y│\n",
            "↪                 \n",
            "↪                 \n",
            "↪                 \n",
            "↪ rwise           \n",
            "↪                 \n",
            "↪                 \n",
            "⎧                 x₂⋅(b + w₁⋅x₁ + w₂⋅x₂ - y)                   for δ ≥ │b + w₁ ↪\n",
            "⎪                                                                              ↪\n",
            "⎪⎧             0                for b + w₁⋅x₁ + w₂⋅x₂ - y = 0                  ↪\n",
            "⎨⎪                                                                             ↪\n",
            "⎪⎨δ⋅x₂⋅(b + w₁⋅x₁ + w₂⋅x₂ - y)                                            othe ↪\n",
            "⎪⎪────────────────────────────            otherwise                            ↪\n",
            "⎩⎩  │b + w₁⋅x₁ + w₂⋅x₂ - y│                                                    ↪\n",
            "\n",
            "↪ ⋅x₁ + w₂⋅x₂ - y│\n",
            "↪                 \n",
            "↪                 \n",
            "↪                 \n",
            "↪ rwise           \n",
            "↪                 \n",
            "↪                 \n",
            "⎧                  b + w₁⋅x₁ + w₂⋅x₂ - y                    for δ ≥ │b + w₁⋅x₁ ↪\n",
            "⎪                                                                              ↪\n",
            "⎪⎧            0              for b + w₁⋅x₁ + w₂⋅x₂ - y = 0                     ↪\n",
            "⎨⎪                                                                             ↪\n",
            "⎪⎨δ⋅(b + w₁⋅x₁ + w₂⋅x₂ - y)                                            otherwi ↪\n",
            "⎪⎪─────────────────────────            otherwise                               ↪\n",
            "⎩⎩ │b + w₁⋅x₁ + w₂⋅x₂ - y│                                                     ↪\n",
            "\n",
            "↪  + w₂⋅x₂ - y│\n",
            "↪              \n",
            "↪              \n",
            "↪              \n",
            "↪ se           \n",
            "↪              \n",
            "↪              \n"
          ]
        }
      ]
    },
    {
      "cell_type": "markdown",
      "source": [
        "# 2- Petits ensembles de données"
      ],
      "metadata": {
        "id": "MUU7Keph26cg"
      },
      "id": "MUU7Keph26cg"
    },
    {
      "cell_type": "code",
      "source": [
        "np.random.seed(0)\n"
      ],
      "metadata": {
        "id": "3IOk8-n_3DwS"
      },
      "id": "3IOk8-n_3DwS",
      "execution_count": 67,
      "outputs": []
    },
    {
      "cell_type": "markdown",
      "source": [
        "## Regression  \n"
      ],
      "metadata": {
        "id": "PVMHgCvW3E4F"
      },
      "id": "PVMHgCvW3E4F"
    },
    {
      "cell_type": "code",
      "source": [
        "\n",
        "n_reg = 100\n",
        "X_reg = np.random.randn(n_reg,2)\n",
        "true_w = np.array([1.5, -2.0])\n",
        "y_reg = X_reg.dot(true_w) + 0.5*np.random.randn(n_reg)\n",
        "df_reg = pd.DataFrame(X_reg, columns=['x1','x2'])\n",
        "df_reg['y'] = y_reg\n"
      ],
      "metadata": {
        "id": "YDegcNzx21i_"
      },
      "id": "YDegcNzx21i_",
      "execution_count": 68,
      "outputs": []
    },
    {
      "cell_type": "markdown",
      "source": [
        "## Classification\n"
      ],
      "metadata": {
        "id": "Xa2nfsCr3H0a"
      },
      "id": "Xa2nfsCr3H0a"
    },
    {
      "cell_type": "code",
      "source": [
        "\n",
        "n_clf = 100\n",
        "X_clf = np.random.randn(n_clf,2)\n",
        "scores = X_clf.dot(np.array([2.0, -1.0])) + 0.3*np.random.randn(n_clf)\n",
        "y_clf = (scores > 0).astype(int)\n",
        "df_clf = pd.DataFrame(X_clf, columns=['x1','x2'])\n",
        "df_clf['y'] = y_clf"
      ],
      "metadata": {
        "id": "Jt-GoxLH3BYJ"
      },
      "id": "Jt-GoxLH3BYJ",
      "execution_count": 69,
      "outputs": []
    },
    {
      "cell_type": "code",
      "source": [
        "\n",
        "\n",
        "print(\"\\nRegression dataset (first 5 rows):\")\n",
        "df_reg.head()\n",
        "\n"
      ],
      "metadata": {
        "colab": {
          "base_uri": "https://localhost:8080/",
          "height": 242
        },
        "id": "A5Y-R5-c3K9C",
        "outputId": "429ca484-118d-4bb9-cdc9-011e8578b5b7"
      },
      "id": "A5Y-R5-c3K9C",
      "execution_count": 70,
      "outputs": [
        {
          "output_type": "stream",
          "name": "stdout",
          "text": [
            "\n",
            "Regression dataset (first 5 rows):\n"
          ]
        },
        {
          "output_type": "execute_result",
          "data": {
            "text/plain": [
              "         x1        x2         y\n",
              "0  1.764052  0.400157  1.661173\n",
              "1  0.978738  2.240893 -3.133369\n",
              "2  1.867558 -0.977278  5.305723\n",
              "3  0.950088 -0.151357  2.055479\n",
              "4 -0.103219  0.410599 -0.655960"
            ],
            "text/html": [
              "\n",
              "  <div id=\"df-d963e329-5d1c-473f-9873-58f8eac033ca\" class=\"colab-df-container\">\n",
              "    <div>\n",
              "<style scoped>\n",
              "    .dataframe tbody tr th:only-of-type {\n",
              "        vertical-align: middle;\n",
              "    }\n",
              "\n",
              "    .dataframe tbody tr th {\n",
              "        vertical-align: top;\n",
              "    }\n",
              "\n",
              "    .dataframe thead th {\n",
              "        text-align: right;\n",
              "    }\n",
              "</style>\n",
              "<table border=\"1\" class=\"dataframe\">\n",
              "  <thead>\n",
              "    <tr style=\"text-align: right;\">\n",
              "      <th></th>\n",
              "      <th>x1</th>\n",
              "      <th>x2</th>\n",
              "      <th>y</th>\n",
              "    </tr>\n",
              "  </thead>\n",
              "  <tbody>\n",
              "    <tr>\n",
              "      <th>0</th>\n",
              "      <td>1.764052</td>\n",
              "      <td>0.400157</td>\n",
              "      <td>1.661173</td>\n",
              "    </tr>\n",
              "    <tr>\n",
              "      <th>1</th>\n",
              "      <td>0.978738</td>\n",
              "      <td>2.240893</td>\n",
              "      <td>-3.133369</td>\n",
              "    </tr>\n",
              "    <tr>\n",
              "      <th>2</th>\n",
              "      <td>1.867558</td>\n",
              "      <td>-0.977278</td>\n",
              "      <td>5.305723</td>\n",
              "    </tr>\n",
              "    <tr>\n",
              "      <th>3</th>\n",
              "      <td>0.950088</td>\n",
              "      <td>-0.151357</td>\n",
              "      <td>2.055479</td>\n",
              "    </tr>\n",
              "    <tr>\n",
              "      <th>4</th>\n",
              "      <td>-0.103219</td>\n",
              "      <td>0.410599</td>\n",
              "      <td>-0.655960</td>\n",
              "    </tr>\n",
              "  </tbody>\n",
              "</table>\n",
              "</div>\n",
              "    <div class=\"colab-df-buttons\">\n",
              "\n",
              "  <div class=\"colab-df-container\">\n",
              "    <button class=\"colab-df-convert\" onclick=\"convertToInteractive('df-d963e329-5d1c-473f-9873-58f8eac033ca')\"\n",
              "            title=\"Convert this dataframe to an interactive table.\"\n",
              "            style=\"display:none;\">\n",
              "\n",
              "  <svg xmlns=\"http://www.w3.org/2000/svg\" height=\"24px\" viewBox=\"0 -960 960 960\">\n",
              "    <path d=\"M120-120v-720h720v720H120Zm60-500h600v-160H180v160Zm220 220h160v-160H400v160Zm0 220h160v-160H400v160ZM180-400h160v-160H180v160Zm440 0h160v-160H620v160ZM180-180h160v-160H180v160Zm440 0h160v-160H620v160Z\"/>\n",
              "  </svg>\n",
              "    </button>\n",
              "\n",
              "  <style>\n",
              "    .colab-df-container {\n",
              "      display:flex;\n",
              "      gap: 12px;\n",
              "    }\n",
              "\n",
              "    .colab-df-convert {\n",
              "      background-color: #E8F0FE;\n",
              "      border: none;\n",
              "      border-radius: 50%;\n",
              "      cursor: pointer;\n",
              "      display: none;\n",
              "      fill: #1967D2;\n",
              "      height: 32px;\n",
              "      padding: 0 0 0 0;\n",
              "      width: 32px;\n",
              "    }\n",
              "\n",
              "    .colab-df-convert:hover {\n",
              "      background-color: #E2EBFA;\n",
              "      box-shadow: 0px 1px 2px rgba(60, 64, 67, 0.3), 0px 1px 3px 1px rgba(60, 64, 67, 0.15);\n",
              "      fill: #174EA6;\n",
              "    }\n",
              "\n",
              "    .colab-df-buttons div {\n",
              "      margin-bottom: 4px;\n",
              "    }\n",
              "\n",
              "    [theme=dark] .colab-df-convert {\n",
              "      background-color: #3B4455;\n",
              "      fill: #D2E3FC;\n",
              "    }\n",
              "\n",
              "    [theme=dark] .colab-df-convert:hover {\n",
              "      background-color: #434B5C;\n",
              "      box-shadow: 0px 1px 3px 1px rgba(0, 0, 0, 0.15);\n",
              "      filter: drop-shadow(0px 1px 2px rgba(0, 0, 0, 0.3));\n",
              "      fill: #FFFFFF;\n",
              "    }\n",
              "  </style>\n",
              "\n",
              "    <script>\n",
              "      const buttonEl =\n",
              "        document.querySelector('#df-d963e329-5d1c-473f-9873-58f8eac033ca button.colab-df-convert');\n",
              "      buttonEl.style.display =\n",
              "        google.colab.kernel.accessAllowed ? 'block' : 'none';\n",
              "\n",
              "      async function convertToInteractive(key) {\n",
              "        const element = document.querySelector('#df-d963e329-5d1c-473f-9873-58f8eac033ca');\n",
              "        const dataTable =\n",
              "          await google.colab.kernel.invokeFunction('convertToInteractive',\n",
              "                                                    [key], {});\n",
              "        if (!dataTable) return;\n",
              "\n",
              "        const docLinkHtml = 'Like what you see? Visit the ' +\n",
              "          '<a target=\"_blank\" href=https://colab.research.google.com/notebooks/data_table.ipynb>data table notebook</a>'\n",
              "          + ' to learn more about interactive tables.';\n",
              "        element.innerHTML = '';\n",
              "        dataTable['output_type'] = 'display_data';\n",
              "        await google.colab.output.renderOutput(dataTable, element);\n",
              "        const docLink = document.createElement('div');\n",
              "        docLink.innerHTML = docLinkHtml;\n",
              "        element.appendChild(docLink);\n",
              "      }\n",
              "    </script>\n",
              "  </div>\n",
              "\n",
              "\n",
              "    <div id=\"df-bc173b5e-0cfd-4358-bbac-c5c2b3b08981\">\n",
              "      <button class=\"colab-df-quickchart\" onclick=\"quickchart('df-bc173b5e-0cfd-4358-bbac-c5c2b3b08981')\"\n",
              "                title=\"Suggest charts\"\n",
              "                style=\"display:none;\">\n",
              "\n",
              "<svg xmlns=\"http://www.w3.org/2000/svg\" height=\"24px\"viewBox=\"0 0 24 24\"\n",
              "     width=\"24px\">\n",
              "    <g>\n",
              "        <path d=\"M19 3H5c-1.1 0-2 .9-2 2v14c0 1.1.9 2 2 2h14c1.1 0 2-.9 2-2V5c0-1.1-.9-2-2-2zM9 17H7v-7h2v7zm4 0h-2V7h2v10zm4 0h-2v-4h2v4z\"/>\n",
              "    </g>\n",
              "</svg>\n",
              "      </button>\n",
              "\n",
              "<style>\n",
              "  .colab-df-quickchart {\n",
              "      --bg-color: #E8F0FE;\n",
              "      --fill-color: #1967D2;\n",
              "      --hover-bg-color: #E2EBFA;\n",
              "      --hover-fill-color: #174EA6;\n",
              "      --disabled-fill-color: #AAA;\n",
              "      --disabled-bg-color: #DDD;\n",
              "  }\n",
              "\n",
              "  [theme=dark] .colab-df-quickchart {\n",
              "      --bg-color: #3B4455;\n",
              "      --fill-color: #D2E3FC;\n",
              "      --hover-bg-color: #434B5C;\n",
              "      --hover-fill-color: #FFFFFF;\n",
              "      --disabled-bg-color: #3B4455;\n",
              "      --disabled-fill-color: #666;\n",
              "  }\n",
              "\n",
              "  .colab-df-quickchart {\n",
              "    background-color: var(--bg-color);\n",
              "    border: none;\n",
              "    border-radius: 50%;\n",
              "    cursor: pointer;\n",
              "    display: none;\n",
              "    fill: var(--fill-color);\n",
              "    height: 32px;\n",
              "    padding: 0;\n",
              "    width: 32px;\n",
              "  }\n",
              "\n",
              "  .colab-df-quickchart:hover {\n",
              "    background-color: var(--hover-bg-color);\n",
              "    box-shadow: 0 1px 2px rgba(60, 64, 67, 0.3), 0 1px 3px 1px rgba(60, 64, 67, 0.15);\n",
              "    fill: var(--button-hover-fill-color);\n",
              "  }\n",
              "\n",
              "  .colab-df-quickchart-complete:disabled,\n",
              "  .colab-df-quickchart-complete:disabled:hover {\n",
              "    background-color: var(--disabled-bg-color);\n",
              "    fill: var(--disabled-fill-color);\n",
              "    box-shadow: none;\n",
              "  }\n",
              "\n",
              "  .colab-df-spinner {\n",
              "    border: 2px solid var(--fill-color);\n",
              "    border-color: transparent;\n",
              "    border-bottom-color: var(--fill-color);\n",
              "    animation:\n",
              "      spin 1s steps(1) infinite;\n",
              "  }\n",
              "\n",
              "  @keyframes spin {\n",
              "    0% {\n",
              "      border-color: transparent;\n",
              "      border-bottom-color: var(--fill-color);\n",
              "      border-left-color: var(--fill-color);\n",
              "    }\n",
              "    20% {\n",
              "      border-color: transparent;\n",
              "      border-left-color: var(--fill-color);\n",
              "      border-top-color: var(--fill-color);\n",
              "    }\n",
              "    30% {\n",
              "      border-color: transparent;\n",
              "      border-left-color: var(--fill-color);\n",
              "      border-top-color: var(--fill-color);\n",
              "      border-right-color: var(--fill-color);\n",
              "    }\n",
              "    40% {\n",
              "      border-color: transparent;\n",
              "      border-right-color: var(--fill-color);\n",
              "      border-top-color: var(--fill-color);\n",
              "    }\n",
              "    60% {\n",
              "      border-color: transparent;\n",
              "      border-right-color: var(--fill-color);\n",
              "    }\n",
              "    80% {\n",
              "      border-color: transparent;\n",
              "      border-right-color: var(--fill-color);\n",
              "      border-bottom-color: var(--fill-color);\n",
              "    }\n",
              "    90% {\n",
              "      border-color: transparent;\n",
              "      border-bottom-color: var(--fill-color);\n",
              "    }\n",
              "  }\n",
              "</style>\n",
              "\n",
              "      <script>\n",
              "        async function quickchart(key) {\n",
              "          const quickchartButtonEl =\n",
              "            document.querySelector('#' + key + ' button');\n",
              "          quickchartButtonEl.disabled = true;  // To prevent multiple clicks.\n",
              "          quickchartButtonEl.classList.add('colab-df-spinner');\n",
              "          try {\n",
              "            const charts = await google.colab.kernel.invokeFunction(\n",
              "                'suggestCharts', [key], {});\n",
              "          } catch (error) {\n",
              "            console.error('Error during call to suggestCharts:', error);\n",
              "          }\n",
              "          quickchartButtonEl.classList.remove('colab-df-spinner');\n",
              "          quickchartButtonEl.classList.add('colab-df-quickchart-complete');\n",
              "        }\n",
              "        (() => {\n",
              "          let quickchartButtonEl =\n",
              "            document.querySelector('#df-bc173b5e-0cfd-4358-bbac-c5c2b3b08981 button');\n",
              "          quickchartButtonEl.style.display =\n",
              "            google.colab.kernel.accessAllowed ? 'block' : 'none';\n",
              "        })();\n",
              "      </script>\n",
              "    </div>\n",
              "\n",
              "    </div>\n",
              "  </div>\n"
            ],
            "application/vnd.google.colaboratory.intrinsic+json": {
              "type": "dataframe",
              "variable_name": "df_reg",
              "summary": "{\n  \"name\": \"df_reg\",\n  \"rows\": 100,\n  \"fields\": [\n    {\n      \"column\": \"x1\",\n      \"properties\": {\n        \"dtype\": \"number\",\n        \"std\": 1.027106331160057,\n        \"min\": -2.5529898158340787,\n        \"max\": 2.383144774863942,\n        \"num_unique_values\": 100,\n        \"samples\": [\n          -1.0002153473895647,\n          -0.41361898075974735,\n          -1.4912575927056055\n        ],\n        \"semantic_type\": \"\",\n        \"description\": \"\"\n      }\n    },\n    {\n      \"column\": \"x2\",\n      \"properties\": {\n        \"dtype\": \"number\",\n        \"std\": 1.020932894008133,\n        \"min\": -2.2234031522244266,\n        \"max\": 2.240893199201458,\n        \"num_unique_values\": 100,\n        \"samples\": [\n          -1.5447710967776116,\n          -0.7474548114407578,\n          0.4393917012645369\n        ],\n        \"semantic_type\": \"\",\n        \"description\": \"\"\n      }\n    },\n    {\n      \"column\": \"y\",\n      \"properties\": {\n        \"dtype\": \"number\",\n        \"std\": 2.686595487470097,\n        \"min\": -6.633946964250791,\n        \"max\": 6.7065272662334285,\n        \"num_unique_values\": 100,\n        \"samples\": [\n          2.357407699593775,\n          0.7148169431693469,\n          -2.916146618767417\n        ],\n        \"semantic_type\": \"\",\n        \"description\": \"\"\n      }\n    }\n  ]\n}"
            }
          },
          "metadata": {},
          "execution_count": 70
        }
      ]
    },
    {
      "cell_type": "code",
      "source": [
        "print(\"\\nClassification dataset (first 5 rows):\")\n",
        "df_clf.head()"
      ],
      "metadata": {
        "colab": {
          "base_uri": "https://localhost:8080/",
          "height": 242
        },
        "id": "A5vIpgbc37Ea",
        "outputId": "bae0aa89-dbc1-4e1c-c025-8a4b5784c2a3"
      },
      "id": "A5vIpgbc37Ea",
      "execution_count": 71,
      "outputs": [
        {
          "output_type": "stream",
          "name": "stdout",
          "text": [
            "\n",
            "Classification dataset (first 5 rows):\n"
          ]
        },
        {
          "output_type": "execute_result",
          "data": {
            "text/plain": [
              "         x1        x2  y\n",
              "0 -1.306527  1.658131  0\n",
              "1 -0.118164 -0.680178  1\n",
              "2  0.666383 -0.460720  1\n",
              "3 -1.334258 -1.346718  0\n",
              "4  0.693773 -0.159573  1"
            ],
            "text/html": [
              "\n",
              "  <div id=\"df-bf6d4685-1bbb-4f12-a692-e55b2cf0edd9\" class=\"colab-df-container\">\n",
              "    <div>\n",
              "<style scoped>\n",
              "    .dataframe tbody tr th:only-of-type {\n",
              "        vertical-align: middle;\n",
              "    }\n",
              "\n",
              "    .dataframe tbody tr th {\n",
              "        vertical-align: top;\n",
              "    }\n",
              "\n",
              "    .dataframe thead th {\n",
              "        text-align: right;\n",
              "    }\n",
              "</style>\n",
              "<table border=\"1\" class=\"dataframe\">\n",
              "  <thead>\n",
              "    <tr style=\"text-align: right;\">\n",
              "      <th></th>\n",
              "      <th>x1</th>\n",
              "      <th>x2</th>\n",
              "      <th>y</th>\n",
              "    </tr>\n",
              "  </thead>\n",
              "  <tbody>\n",
              "    <tr>\n",
              "      <th>0</th>\n",
              "      <td>-1.306527</td>\n",
              "      <td>1.658131</td>\n",
              "      <td>0</td>\n",
              "    </tr>\n",
              "    <tr>\n",
              "      <th>1</th>\n",
              "      <td>-0.118164</td>\n",
              "      <td>-0.680178</td>\n",
              "      <td>1</td>\n",
              "    </tr>\n",
              "    <tr>\n",
              "      <th>2</th>\n",
              "      <td>0.666383</td>\n",
              "      <td>-0.460720</td>\n",
              "      <td>1</td>\n",
              "    </tr>\n",
              "    <tr>\n",
              "      <th>3</th>\n",
              "      <td>-1.334258</td>\n",
              "      <td>-1.346718</td>\n",
              "      <td>0</td>\n",
              "    </tr>\n",
              "    <tr>\n",
              "      <th>4</th>\n",
              "      <td>0.693773</td>\n",
              "      <td>-0.159573</td>\n",
              "      <td>1</td>\n",
              "    </tr>\n",
              "  </tbody>\n",
              "</table>\n",
              "</div>\n",
              "    <div class=\"colab-df-buttons\">\n",
              "\n",
              "  <div class=\"colab-df-container\">\n",
              "    <button class=\"colab-df-convert\" onclick=\"convertToInteractive('df-bf6d4685-1bbb-4f12-a692-e55b2cf0edd9')\"\n",
              "            title=\"Convert this dataframe to an interactive table.\"\n",
              "            style=\"display:none;\">\n",
              "\n",
              "  <svg xmlns=\"http://www.w3.org/2000/svg\" height=\"24px\" viewBox=\"0 -960 960 960\">\n",
              "    <path d=\"M120-120v-720h720v720H120Zm60-500h600v-160H180v160Zm220 220h160v-160H400v160Zm0 220h160v-160H400v160ZM180-400h160v-160H180v160Zm440 0h160v-160H620v160ZM180-180h160v-160H180v160Zm440 0h160v-160H620v160Z\"/>\n",
              "  </svg>\n",
              "    </button>\n",
              "\n",
              "  <style>\n",
              "    .colab-df-container {\n",
              "      display:flex;\n",
              "      gap: 12px;\n",
              "    }\n",
              "\n",
              "    .colab-df-convert {\n",
              "      background-color: #E8F0FE;\n",
              "      border: none;\n",
              "      border-radius: 50%;\n",
              "      cursor: pointer;\n",
              "      display: none;\n",
              "      fill: #1967D2;\n",
              "      height: 32px;\n",
              "      padding: 0 0 0 0;\n",
              "      width: 32px;\n",
              "    }\n",
              "\n",
              "    .colab-df-convert:hover {\n",
              "      background-color: #E2EBFA;\n",
              "      box-shadow: 0px 1px 2px rgba(60, 64, 67, 0.3), 0px 1px 3px 1px rgba(60, 64, 67, 0.15);\n",
              "      fill: #174EA6;\n",
              "    }\n",
              "\n",
              "    .colab-df-buttons div {\n",
              "      margin-bottom: 4px;\n",
              "    }\n",
              "\n",
              "    [theme=dark] .colab-df-convert {\n",
              "      background-color: #3B4455;\n",
              "      fill: #D2E3FC;\n",
              "    }\n",
              "\n",
              "    [theme=dark] .colab-df-convert:hover {\n",
              "      background-color: #434B5C;\n",
              "      box-shadow: 0px 1px 3px 1px rgba(0, 0, 0, 0.15);\n",
              "      filter: drop-shadow(0px 1px 2px rgba(0, 0, 0, 0.3));\n",
              "      fill: #FFFFFF;\n",
              "    }\n",
              "  </style>\n",
              "\n",
              "    <script>\n",
              "      const buttonEl =\n",
              "        document.querySelector('#df-bf6d4685-1bbb-4f12-a692-e55b2cf0edd9 button.colab-df-convert');\n",
              "      buttonEl.style.display =\n",
              "        google.colab.kernel.accessAllowed ? 'block' : 'none';\n",
              "\n",
              "      async function convertToInteractive(key) {\n",
              "        const element = document.querySelector('#df-bf6d4685-1bbb-4f12-a692-e55b2cf0edd9');\n",
              "        const dataTable =\n",
              "          await google.colab.kernel.invokeFunction('convertToInteractive',\n",
              "                                                    [key], {});\n",
              "        if (!dataTable) return;\n",
              "\n",
              "        const docLinkHtml = 'Like what you see? Visit the ' +\n",
              "          '<a target=\"_blank\" href=https://colab.research.google.com/notebooks/data_table.ipynb>data table notebook</a>'\n",
              "          + ' to learn more about interactive tables.';\n",
              "        element.innerHTML = '';\n",
              "        dataTable['output_type'] = 'display_data';\n",
              "        await google.colab.output.renderOutput(dataTable, element);\n",
              "        const docLink = document.createElement('div');\n",
              "        docLink.innerHTML = docLinkHtml;\n",
              "        element.appendChild(docLink);\n",
              "      }\n",
              "    </script>\n",
              "  </div>\n",
              "\n",
              "\n",
              "    <div id=\"df-4a33f607-6403-4234-967e-b31da93be340\">\n",
              "      <button class=\"colab-df-quickchart\" onclick=\"quickchart('df-4a33f607-6403-4234-967e-b31da93be340')\"\n",
              "                title=\"Suggest charts\"\n",
              "                style=\"display:none;\">\n",
              "\n",
              "<svg xmlns=\"http://www.w3.org/2000/svg\" height=\"24px\"viewBox=\"0 0 24 24\"\n",
              "     width=\"24px\">\n",
              "    <g>\n",
              "        <path d=\"M19 3H5c-1.1 0-2 .9-2 2v14c0 1.1.9 2 2 2h14c1.1 0 2-.9 2-2V5c0-1.1-.9-2-2-2zM9 17H7v-7h2v7zm4 0h-2V7h2v10zm4 0h-2v-4h2v4z\"/>\n",
              "    </g>\n",
              "</svg>\n",
              "      </button>\n",
              "\n",
              "<style>\n",
              "  .colab-df-quickchart {\n",
              "      --bg-color: #E8F0FE;\n",
              "      --fill-color: #1967D2;\n",
              "      --hover-bg-color: #E2EBFA;\n",
              "      --hover-fill-color: #174EA6;\n",
              "      --disabled-fill-color: #AAA;\n",
              "      --disabled-bg-color: #DDD;\n",
              "  }\n",
              "\n",
              "  [theme=dark] .colab-df-quickchart {\n",
              "      --bg-color: #3B4455;\n",
              "      --fill-color: #D2E3FC;\n",
              "      --hover-bg-color: #434B5C;\n",
              "      --hover-fill-color: #FFFFFF;\n",
              "      --disabled-bg-color: #3B4455;\n",
              "      --disabled-fill-color: #666;\n",
              "  }\n",
              "\n",
              "  .colab-df-quickchart {\n",
              "    background-color: var(--bg-color);\n",
              "    border: none;\n",
              "    border-radius: 50%;\n",
              "    cursor: pointer;\n",
              "    display: none;\n",
              "    fill: var(--fill-color);\n",
              "    height: 32px;\n",
              "    padding: 0;\n",
              "    width: 32px;\n",
              "  }\n",
              "\n",
              "  .colab-df-quickchart:hover {\n",
              "    background-color: var(--hover-bg-color);\n",
              "    box-shadow: 0 1px 2px rgba(60, 64, 67, 0.3), 0 1px 3px 1px rgba(60, 64, 67, 0.15);\n",
              "    fill: var(--button-hover-fill-color);\n",
              "  }\n",
              "\n",
              "  .colab-df-quickchart-complete:disabled,\n",
              "  .colab-df-quickchart-complete:disabled:hover {\n",
              "    background-color: var(--disabled-bg-color);\n",
              "    fill: var(--disabled-fill-color);\n",
              "    box-shadow: none;\n",
              "  }\n",
              "\n",
              "  .colab-df-spinner {\n",
              "    border: 2px solid var(--fill-color);\n",
              "    border-color: transparent;\n",
              "    border-bottom-color: var(--fill-color);\n",
              "    animation:\n",
              "      spin 1s steps(1) infinite;\n",
              "  }\n",
              "\n",
              "  @keyframes spin {\n",
              "    0% {\n",
              "      border-color: transparent;\n",
              "      border-bottom-color: var(--fill-color);\n",
              "      border-left-color: var(--fill-color);\n",
              "    }\n",
              "    20% {\n",
              "      border-color: transparent;\n",
              "      border-left-color: var(--fill-color);\n",
              "      border-top-color: var(--fill-color);\n",
              "    }\n",
              "    30% {\n",
              "      border-color: transparent;\n",
              "      border-left-color: var(--fill-color);\n",
              "      border-top-color: var(--fill-color);\n",
              "      border-right-color: var(--fill-color);\n",
              "    }\n",
              "    40% {\n",
              "      border-color: transparent;\n",
              "      border-right-color: var(--fill-color);\n",
              "      border-top-color: var(--fill-color);\n",
              "    }\n",
              "    60% {\n",
              "      border-color: transparent;\n",
              "      border-right-color: var(--fill-color);\n",
              "    }\n",
              "    80% {\n",
              "      border-color: transparent;\n",
              "      border-right-color: var(--fill-color);\n",
              "      border-bottom-color: var(--fill-color);\n",
              "    }\n",
              "    90% {\n",
              "      border-color: transparent;\n",
              "      border-bottom-color: var(--fill-color);\n",
              "    }\n",
              "  }\n",
              "</style>\n",
              "\n",
              "      <script>\n",
              "        async function quickchart(key) {\n",
              "          const quickchartButtonEl =\n",
              "            document.querySelector('#' + key + ' button');\n",
              "          quickchartButtonEl.disabled = true;  // To prevent multiple clicks.\n",
              "          quickchartButtonEl.classList.add('colab-df-spinner');\n",
              "          try {\n",
              "            const charts = await google.colab.kernel.invokeFunction(\n",
              "                'suggestCharts', [key], {});\n",
              "          } catch (error) {\n",
              "            console.error('Error during call to suggestCharts:', error);\n",
              "          }\n",
              "          quickchartButtonEl.classList.remove('colab-df-spinner');\n",
              "          quickchartButtonEl.classList.add('colab-df-quickchart-complete');\n",
              "        }\n",
              "        (() => {\n",
              "          let quickchartButtonEl =\n",
              "            document.querySelector('#df-4a33f607-6403-4234-967e-b31da93be340 button');\n",
              "          quickchartButtonEl.style.display =\n",
              "            google.colab.kernel.accessAllowed ? 'block' : 'none';\n",
              "        })();\n",
              "      </script>\n",
              "    </div>\n",
              "\n",
              "    </div>\n",
              "  </div>\n"
            ],
            "application/vnd.google.colaboratory.intrinsic+json": {
              "type": "dataframe",
              "variable_name": "df_clf",
              "summary": "{\n  \"name\": \"df_clf\",\n  \"rows\": 100,\n  \"fields\": [\n    {\n      \"column\": \"x1\",\n      \"properties\": {\n        \"dtype\": \"number\",\n        \"std\": 1.025053711552706,\n        \"min\": -2.659172237996741,\n        \"max\": 2.6962240525635797,\n        \"num_unique_values\": 100,\n        \"samples\": [\n          -0.960504381633148,\n          0.8145198224878664,\n          -0.39522898265435435\n        ],\n        \"semantic_type\": \"\",\n        \"description\": \"\"\n      }\n    },\n    {\n      \"column\": \"x2\",\n      \"properties\": {\n        \"dtype\": \"number\",\n        \"std\": 0.9616282017047176,\n        \"min\": -2.7396771671895563,\n        \"max\": 2.4124536795437486,\n        \"num_unique_values\": 100,\n        \"samples\": [\n          -0.7931173627076716,\n          0.05892558918162996,\n          -1.159420516399913\n        ],\n        \"semantic_type\": \"\",\n        \"description\": \"\"\n      }\n    },\n    {\n      \"column\": \"y\",\n      \"properties\": {\n        \"dtype\": \"number\",\n        \"std\": 0,\n        \"min\": 0,\n        \"max\": 1,\n        \"num_unique_values\": 2,\n        \"samples\": [\n          1,\n          0\n        ],\n        \"semantic_type\": \"\",\n        \"description\": \"\"\n      }\n    }\n  ]\n}"
            }
          },
          "metadata": {},
          "execution_count": 71
        }
      ]
    },
    {
      "cell_type": "code",
      "source": [],
      "metadata": {
        "id": "xouXb3fe3P-9"
      },
      "id": "xouXb3fe3P-9",
      "execution_count": 71,
      "outputs": []
    },
    {
      "cell_type": "markdown",
      "source": [
        "# 3- Tracé de la surface de perte (fixer b = 0)"
      ],
      "metadata": {
        "id": "FMJgOYSS3QJw"
      },
      "id": "FMJgOYSS3QJw"
    },
    {
      "cell_type": "code",
      "source": [
        "\n",
        "def mse_loss_grid(X, y, W1, W2):\n",
        "    losses = np.zeros_like(W1)\n",
        "    for i in range(W1.shape[0]):\n",
        "        for j in range(W1.shape[1]):\n",
        "            w = np.array([W1[i,j], W2[i,j]])\n",
        "            preds = X.dot(w)\n",
        "            losses[i,j] = 0.5*np.mean((y - preds)**2)\n",
        "    return losses\n",
        "\n",
        "def bce_loss_grid(X, y, W1, W2):\n",
        "    losses = np.zeros_like(W1)\n",
        "    eps = 1e-9\n",
        "    for i in range(W1.shape[0]):\n",
        "        for j in range(W1.shape[1]):\n",
        "            w = np.array([W1[i,j], W2[i,j]])\n",
        "            s = X.dot(w)\n",
        "            p = 1/(1+np.exp(-s))\n",
        "            losses[i,j] = -np.mean(y*np.log(p+eps) + (1-y)*np.log(1-p+eps))\n",
        "    return losses\n"
      ],
      "metadata": {
        "id": "Bv9RgdGk3OHE"
      },
      "id": "Bv9RgdGk3OHE",
      "execution_count": 72,
      "outputs": []
    },
    {
      "cell_type": "markdown",
      "source": [],
      "metadata": {
        "id": "Bm2sNPq53dDM"
      },
      "id": "Bm2sNPq53dDM"
    },
    {
      "cell_type": "code",
      "source": [
        "\n",
        "grid = np.linspace(-3,3,121)\n",
        "W1g, W2g = np.meshgrid(grid, grid)\n",
        "\n",
        "MSEsurf = mse_loss_grid(X_reg, y_reg, W1g, W2g)\n",
        "plt.figure(figsize=(6,5))\n",
        "plt.contourf(W1g, W2g, MSEsurf, levels=40)\n",
        "plt.title(\"MSE loss surface (regression dataset)\")\n",
        "plt.xlabel(\"w1\"); plt.ylabel(\"w2\")\n",
        "plt.colorbar()\n",
        "plt.show()\n",
        "\n"
      ],
      "metadata": {
        "colab": {
          "base_uri": "https://localhost:8080/",
          "height": 487
        },
        "id": "SmtngOBj3dTG",
        "outputId": "5ab64309-8226-4a92-a526-4caadfd58d70"
      },
      "id": "SmtngOBj3dTG",
      "execution_count": 73,
      "outputs": [
        {
          "output_type": "display_data",
          "data": {
            "text/plain": [
              "<Figure size 600x500 with 2 Axes>"
            ],
            "image/png": "[encoded data removed]"
          },
          "metadata": {}
        }
      ]
    },
    {
      "cell_type": "code",
      "source": [
        "BCEsurf = bce_loss_grid(X_clf, y_clf, W1g, W2g)\n",
        "plt.figure(figsize=(6,5))\n",
        "plt.contourf(W1g, W2g, BCEsurf, levels=40)\n",
        "plt.title(\"BCE loss surface (classification dataset)\")\n",
        "plt.xlabel(\"w1\"); plt.ylabel(\"w2\")\n",
        "plt.colorbar()\n",
        "plt.show()\n"
      ],
      "metadata": {
        "colab": {
          "base_uri": "https://localhost:8080/",
          "height": 487
        },
        "id": "q_1EZHX03elZ",
        "outputId": "cacd214c-803b-4b9f-c803-1a86fd53d8a5"
      },
      "id": "q_1EZHX03elZ",
      "execution_count": 74,
      "outputs": [
        {
          "output_type": "display_data",
          "data": {
            "text/plain": [
              "<Figure size 600x500 with 2 Axes>"
            ],
            "image/png": "[encoded data removed]"
          },
          "metadata": {}
        }
      ]
    },
    {
      "cell_type": "markdown",
      "source": [
        "## 4- Exemple de tangente à une ellipse (symbolique -> numérique)"
      ],
      "metadata": {
        "id": "fiJ5EW5y3k3s"
      },
      "id": "fiJ5EW5y3k3s"
    },
    {
      "cell_type": "code",
      "source": [
        "\n",
        "x, y_sym, a, b = sp.symbols('x y a b', real=True, positive=True)\n",
        "F = x**2/a**2 + y_sym**2/b**2 - 1\n",
        "Fx = sp.diff(F, x); Fy = sp.diff(F, y_sym)"
      ],
      "metadata": {
        "id": "vxMiNJnp3omf"
      },
      "id": "vxMiNJnp3omf",
      "execution_count": 75,
      "outputs": []
    },
    {
      "cell_type": "code",
      "execution_count": 76,
      "id": "4ee5cff4",
      "metadata": {
        "id": "4ee5cff4"
      },
      "outputs": [],
      "source": [
        "\n",
        "\n",
        "# numeric example a=3,b=2, t=pi/4\n",
        "aval = 3; bval = 2\n",
        "tval = sp.pi/4\n",
        "x0 = float(aval*sp.cos(tval))\n",
        "y0 = float(bval*sp.sin(tval))\n",
        "X, Y = sp.symbols('X Y', real=True)\n",
        "tangent_eq = Fx.subs({x:x0,a:aval,b:bval})*(X - x0) + Fy.subs({y_sym:y0,a:aval,b:bval})*(Y - y0)\n",
        "tangent_line = sp.solve(sp.Eq(tangent_eq,0), Y)[0]\n",
        "tangent_line_simpl = sp.simplify(tangent_line)\n",
        "\n"
      ]
    },
    {
      "cell_type": "code",
      "source": [
        "print(\"\\nTangent line (Y as fn of X):\")\n",
        "sp.pprint(tangent_line_simpl)\n"
      ],
      "metadata": {
        "colab": {
          "base_uri": "https://localhost:8080/"
        },
        "id": "BFXQPauM3q7M",
        "outputId": "a9fd37bd-5381-4dcb-962a-a2942580dbfb"
      },
      "id": "BFXQPauM3q7M",
      "execution_count": 77,
      "outputs": [
        {
          "output_type": "stream",
          "name": "stdout",
          "text": [
            "\n",
            "Tangent line (Y as fn of X):\n",
            "2.82842712474619 - 0.666666666666667⋅X\n"
          ]
        }
      ]
    },
    {
      "cell_type": "code",
      "source": [
        "print(\"\\nNumeric slope and intercept:\")\n",
        "slope = sp.diff(tangent_line_simpl, X)\n",
        "intercept = tangent_line_simpl.subs(X, 0)\n",
        "print(float(slope), float(intercept))"
      ],
      "metadata": {
        "colab": {
          "base_uri": "https://localhost:8080/"
        },
        "id": "kgj0ozLc3trC",
        "outputId": "bef2b2cc-f8d2-448d-e251-ef958e0ab213"
      },
      "id": "kgj0ozLc3trC",
      "execution_count": 78,
      "outputs": [
        {
          "output_type": "stream",
          "name": "stdout",
          "text": [
            "\n",
            "Numeric slope and intercept:\n",
            "-0.6666666666666666 2.828427124746188\n"
          ]
        }
      ]
    }
  ],
  "metadata": {
    "colab": {
      "provenance": []
    },
    "language_info": {
      "name": "python"
    },
    "kernelspec": {
      "name": "python3",
      "display_name": "Python 3"
    }
  },
  "nbformat": 4,
  "nbformat_minor": 5
}